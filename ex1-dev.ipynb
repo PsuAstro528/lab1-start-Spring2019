{
 "cells": [
  {
   "cell_type": "markdown",
   "metadata": {},
   "source": [
    "# Lab 1, Exercise 1\n",
    "## Pass a simple test\n",
    "Before we delve into the meat of the course, we'll practice accessing the assignment via your private git repository (\"repo\"), cloning the repo on a syste running Jupyter notebook server with a Julia kernel, making some small changes, commiting your changes via git, and pushing those to github.\n",
    "If this is your first time using all of these toosl, then it probably sounds like a lot.  The good news is taht before long all of this will become second nature and you'll wonder how you got along without them. "
   ]
  },
  {
   "cell_type": "markdown",
   "metadata": {},
   "source": [
    "In Julia strings are create by enclosing text between double quotes.  Single quotes are used to indicate a single character (as opposed to a string of length 1).  For example..."
   ]
  },
  {
   "cell_type": "code",
   "execution_count": 42,
   "metadata": {},
   "outputs": [
    {
     "data": {
      "text/plain": [
       "\"Eric Ford\""
      ]
     },
     "execution_count": 42,
     "metadata": {},
     "output_type": "execute_result"
    }
   ],
   "source": [
    "course_number = \"Astro 528\"\n",
    "semester = \"Spring 2019\"\n",
    "instructor = \"Eric Ford\""
   ]
  },
  {
   "cell_type": "markdown",
   "metadata": {},
   "source": [
    "Select the cell above and press shift-enter.  Julia will \"execute\" or \"run\" the code in that cell.  Notice that there's no output from the first two lines, but it prints the output from the last line.  In the cell below, create variables named `student_name`, `student dept` and `student_year` with values based on yourself.   "
   ]
  },
  {
   "cell_type": "code",
   "execution_count": 52,
   "metadata": {},
   "outputs": [
    {
     "data": {
      "text/plain": [
       "10"
      ]
     },
     "execution_count": 52,
     "metadata": {},
     "output_type": "execute_result"
    }
   ],
   "source": [
    "# WRITE YOUR CODE HERE\n",
    "# SOLUTION\n",
    "student_name = \"Eric Ford\"\n",
    "student_dept = \"Astro\"\n",
    "student_year = 10"
   ]
  },
  {
   "cell_type": "markdown",
   "metadata": {},
   "source": [
    "Run the cell with your code and make sure there are no error messages.  Once we start doing real calculations, it will be important to test our work.  Therefore, you and I will both write tests that your code should pass. For example, in this case we can test that variables with the correct names exist, they're not empty, etc.\n",
    "\n",
    "But first, we need to tell Julia to import the Test package, so we have access to its functions and macros.  Julia has a large set of packages, that range from very basic functionality to complex science codes.  The quality also varries widely.  Several packages (like Test) are included in \"Julia Base\" so they're already installed for us.  We just need to tell Julia that we'd like access to their function and macros.  \n",
    "\n",
    "Run the cells below (in order) until you find a test that doesn't pass.  Then modify the code so that it passes.  Near the end, I've written a test with a bug in it for you to fix."
   ]
  },
  {
   "cell_type": "code",
   "execution_count": 26,
   "metadata": {},
   "outputs": [],
   "source": [
    "using Test   "
   ]
  },
  {
   "cell_type": "code",
   "execution_count": 48,
   "metadata": {},
   "outputs": [
    {
     "data": {
      "text/plain": [
       "\u001b[32m\u001b[1mTest Passed\u001b[22m\u001b[39m"
      ]
     },
     "execution_count": 48,
     "metadata": {},
     "output_type": "execute_result"
    }
   ],
   "source": [
    "# Now we test that variables with the correct names have been assigned\n",
    "@test isdefined(Main,:student_name)  # Main refers to the Main namespace, i.e. where \n",
    "@test isdefined(Main,:student_dept)  # variables go by default if they're not in a module.\n",
    "@test isdefined(Main,:student_year)  # Most packages have at least one module."
   ]
  },
  {
   "cell_type": "code",
   "execution_count": 53,
   "metadata": {},
   "outputs": [
    {
     "data": {
      "text/plain": [
       "\u001b[32m\u001b[1mTest Passed\u001b[22m\u001b[39m"
      ]
     },
     "execution_count": 53,
     "metadata": {},
     "output_type": "execute_result"
    }
   ],
   "source": [
    "# Test some properties of an acceptable student name\n",
    "@test typeof(student_name) == String   \n",
    "@test length(student_name) > 3\n",
    "@test occursin(' ',student_name)\n",
    "@test typeof(student_dept) == String\n",
    "@test length(student_dept) >= 3\n",
    "@test typeof(student_year) <: Number   \n",
    "@test typeof(student_year) <: Integer   \n",
    "@test 1 <= student_year <= 10\n",
    "@test student_name == instructor"
   ]
  },
  {
   "cell_type": "markdown",
   "metadata": {},
   "source": [
    "In the future, we'll separate out the tests for each exercise into a separate file (located in the test folder), so that they don't distract from the code we're writing.  \n"
   ]
  },
  {
   "cell_type": "code",
   "execution_count": 54,
   "metadata": {},
   "outputs": [
    {
     "name": "stdout",
     "output_type": "stream",
     "text": [
      "\u001b[37mTest value of student_name is not obviously wrong: \u001b[39m\u001b[91m\u001b[1mTest Failed\u001b[22m\u001b[39m at \u001b[39m\u001b[1m/home/eford/Teach/Astro528/exercises/lab1-dev/test/test1.jl:15\u001b[22m\n",
      "  Expression: student_name != instructor\n",
      "   Evaluated: \"Eric Ford\" != \"Eric Ford\"\n",
      "Stacktrace:\n",
      " [1] top-level scope at \u001b[1m/buildworker/worker/package_linux64/build/usr/share/julia/stdlib/v1.0/Test/src/Test.jl:1090\u001b[22m\n",
      " [2] \u001b[1minclude\u001b[22m at \u001b[1m./boot.jl:317\u001b[22m [inlined]\n",
      " [3] \u001b[1minclude_relative\u001b[22m\u001b[1m(\u001b[22m::Module, ::String\u001b[1m)\u001b[22m at \u001b[1m./loading.jl:1044\u001b[22m\n",
      " [4] \u001b[1minclude\u001b[22m\u001b[1m(\u001b[22m::Module, ::String\u001b[1m)\u001b[22m at \u001b[1m./sysimg.jl:29\u001b[22m\n",
      " [5] \u001b[1minclude\u001b[22m\u001b[1m(\u001b[22m::String\u001b[1m)\u001b[22m at \u001b[1m./client.jl:392\u001b[22m\n",
      " [6] top-level scope at \u001b[1mIn[54]:1\u001b[22m\n",
      " [7] \u001b[1meval\u001b[22m at \u001b[1m./boot.jl:319\u001b[22m [inlined]\n",
      " [8] \u001b[1msoftscope_include_string\u001b[22m\u001b[1m(\u001b[22m::Module, ::String, ::String\u001b[1m)\u001b[22m at \u001b[1m/home/eford/.julia/packages/SoftGlobalScope/ujmiK/src/SoftGlobalScope.jl:206\u001b[22m\n",
      " [9] \u001b[1mexecute_request\u001b[22m\u001b[1m(\u001b[22m::ZMQ.Socket, ::IJulia.Msg\u001b[1m)\u001b[22m at \u001b[1m/home/eford/.julia/packages/IJulia/DL02A/src/execute_request.jl:65\u001b[22m\n",
      " [10] \u001b[1m#invokelatest#1\u001b[22m at \u001b[1m./essentials.jl:697\u001b[22m [inlined]\n",
      " [11] \u001b[1minvokelatest\u001b[22m at \u001b[1m./essentials.jl:696\u001b[22m [inlined]\n",
      " [12] \u001b[1meventloop\u001b[22m\u001b[1m(\u001b[22m::ZMQ.Socket\u001b[1m)\u001b[22m at \u001b[1m/home/eford/.julia/packages/IJulia/DL02A/src/eventloop.jl:8\u001b[22m\n",
      " [13] \u001b[1m(::getfield(IJulia, Symbol(\"##12#15\")))\u001b[22m\u001b[1m(\u001b[22m\u001b[1m)\u001b[22m at \u001b[1m./task.jl:259\u001b[22m\n",
      "\u001b[37m\u001b[1mTest Summary:                                       | \u001b[22m\u001b[39m\u001b[32m\u001b[1mPass  \u001b[22m\u001b[39m\u001b[91m\u001b[1mFail  \u001b[22m\u001b[39m\u001b[36m\u001b[1mTotal\u001b[22m\u001b[39m\n",
      "Testing solution to Exercise 1                      | \u001b[32m  11  \u001b[39m\u001b[91m   1  \u001b[39m\u001b[36m   12\u001b[39m\n",
      "  Testing that variables exist                      | \u001b[32m   3  \u001b[39m      \u001b[36m    3\u001b[39m\n",
      "  Test value of student_name is not obviously wrong | \u001b[32m   3  \u001b[39m\u001b[91m   1  \u001b[39m\u001b[36m    4\u001b[39m\n",
      "  Test value of student_dept is not obviously wrong | \u001b[32m   2  \u001b[39m      \u001b[36m    2\u001b[39m\n",
      "  Test value of student_year is not obviously wrong | \u001b[32m   3  \u001b[39m      \u001b[36m    3\u001b[39m\n"
     ]
    },
    {
     "ename": "LoadError",
     "evalue": "Some tests did not pass: 11 passed, 1 failed, 0 errored, 0 broken.",
     "output_type": "error",
     "traceback": [
      "Some tests did not pass: 11 passed, 1 failed, 0 errored, 0 broken.",
      "",
      "Stacktrace:",
      " [1] finish(::Test.DefaultTestSet) at /buildworker/worker/package_linux64/build/usr/share/julia/stdlib/v1.0/Test/src/Test.jl:847",
      " [2] macro expansion at /buildworker/worker/package_linux64/build/usr/share/julia/stdlib/v1.0/Test/src/Test.jl:1074 [inlined]",
      " [3] macro expansion at /home/eford/Teach/Astro528/exercises/lab1-dev/test/test1.jl:6 [inlined]",
      " [4] macro expansion at /buildworker/worker/package_linux64/build/usr/share/julia/stdlib/v1.0/Test/src/Test.jl:1083 [inlined]",
      " [5] top-level scope at /home/eford/Teach/Astro528/exercises/lab1-dev/test/test1.jl:5",
      " [6] include at ./boot.jl:317 [inlined]",
      " [7] include_relative(::Module, ::String) at ./loading.jl:1044",
      " [8] include(::Module, ::String) at ./sysimg.jl:29",
      " [9] include(::String) at ./client.jl:392",
      " [10] top-level scope at In[54]:1"
     ]
    }
   ],
   "source": [
    "include(\"test/test1.jl\");"
   ]
  },
  {
   "cell_type": "markdown",
   "metadata": {},
   "source": [
    "\n",
    "Once you're happy with the results, it's time to save your notebook (File.Save and Checkpoint or icon of a floppy disk).\n",
    "Then read the [instructions for using ACI](https://psuastro528.github.io/lessons/how-to-use-aci/#commit-push) for how to commit your changes to your git repository and push them to github. \n",
    "    \n",
    "When you're done you can look into this lesson's ex2.ipynb notebook for the next exercise."
   ]
  },
  {
   "cell_type": "code",
   "execution_count": null,
   "metadata": {},
   "outputs": [],
   "source": []
  }
 ],
 "metadata": {
  "kernelspec": {
   "display_name": "Julia 1.0.2",
   "language": "julia",
   "name": "julia-1.0"
  },
  "language_info": {
   "file_extension": ".jl",
   "mimetype": "application/julia",
   "name": "julia",
   "version": "1.0.2"
  }
 },
 "nbformat": 4,
 "nbformat_minor": 2
}
