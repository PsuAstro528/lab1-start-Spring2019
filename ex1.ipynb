{
  "cells": [
    {
      "cell_type": "markdown",
      "source": [
        "# Lab 1, Exercise 1\n## Pass a simple test\nBefore we delve into the meat of the course, we'll practice accessing the assignment via your private git repository (\"repo\"), cloning the repo on a syste running Jupyter notebook server with a Julia kernel, making some small changes, commiting your changes via git, and pushing those to github.\nIf this is your first time using all of these toosl, then it probably sounds like a lot.  The good news is taht before long all of this will become second nature and you'll wonder how you got along without them. \n\nIn Julia strings are create by enclosing text between double quotes.  Single quotes are used to indicate a single character (as opposed to a string of length 1).  For example..."
      ],
      "metadata": {}
    },
    {
      "outputs": [],
      "cell_type": "code",
      "source": [
        "course_number = \"Astro 528\"\nsemester = \"Spring 2019\"\ninstructor = \"Eric Ford\""
      ],
      "metadata": {},
      "execution_count": null
    },
    {
      "cell_type": "markdown",
      "source": [
        "Select the cell above and press shift-enter.  Julia will \"execute\" or \"run\" the code in that cell.  Notice that there's no output from the first two lines, but it prints the output from the last line.  In the cell below, create variables named `student_name`, `student dept` and `student_year` with values based on yourself."
      ],
      "metadata": {}
    },
    {
      "outputs": [],
      "cell_type": "code",
      "source": [
        "# WRITE YOUR CODE HERE\n# SOLUTION\nstudent_name = \"Eric Ford\"\nstudent_dept = \"Astro\"\nstudent_year = 10"
      ],
      "metadata": {},
      "execution_count": null
    },
    {
      "cell_type": "markdown",
      "source": [
        "Run the cell with your code and make sure there are no error messages.  Once we start doing real calculations, it will be important to test our work.  Therefore, you and I will both write tests that your code should pass. For example, in this case we can test that variables with the correct names exist, they're not empty, etc.\n\nBut first, we need to tell Julia to import the Test package, so we have access to its functions and macros.  Julia has a large set of packages, that range from very basic functionality to complex science codes.  The quality also varries widely.  Several packages (like Test) are included in \"Julia Base\" so they're already installed for us.  We just need to tell Julia that we'd like access to their function and macros.  \n\nRun the cells below (in order) until you find a test that doesn't pass.  Then modify the code so that it passes.  Near the end, I've written a test with a bug in it for you to fix."
      ],
      "metadata": {}
    },
    {
      "outputs": [],
      "cell_type": "code",
      "source": [
        "using Test"
      ],
      "metadata": {},
      "execution_count": null
    },
    {
      "outputs": [],
      "cell_type": "code",
      "source": [
        "# Now we test that variables with the correct names have been assigned\n@test isdefined(Main,:student_name)  # Main refers to the Main namespace, i.e. where \n@test isdefined(Main,:student_dept)  # variables go by default if they're not in a module.\n@test isdefined(Main,:student_year)  # Most packages have at least one module."
      ],
      "metadata": {},
      "execution_count": null
    },
    {
      "outputs": [],
      "cell_type": "code",
      "source": [
        "# Test some properties of an acceptable student name\n@test typeof(student_name) == String   \n@test length(student_name) > 3\n@test occursin(' ',student_name)\n@test typeof(student_dept) == String\n@test length(student_dept) >= 3\n@test typeof(student_year) <: Number   \n@test typeof(student_year) <: Integer   \n@test 1 <= student_year <= 10\n@test student_name == instructor"
      ],
      "metadata": {},
      "execution_count": null
    },
    {
      "cell_type": "markdown",
      "source": [
        "In the future, we'll separate out the tests for each exercise into a separate file (located in the test folder), so that they don't distract from the code we're writing."
      ],
      "metadata": {}
    },
    {
      "outputs": [],
      "cell_type": "code",
      "source": [
        "include(\"test/test1.jl\");"
      ],
      "metadata": {},
      "execution_count": null
    },
    {
      "cell_type": "markdown",
      "source": [
        "Once you're happy with the results, it's time to save your notebook (File.Save and Checkpoint or icon of a floppy disk).\nThen read the [instructions for using ACI](https://psuastro528.github.io/lessons/how-to-use-aci/#commit-push) for how to commit your changes to your git repository and push them to github. \n    \nWhen you're done you can look into this lesson's ex2.ipynb notebook for the next exercise."
      ],
      "metadata": {}
    },
    {
      "outputs": [],
      "cell_type": "code",
      "source": [
        ""
      ],
      "metadata": {},
      "execution_count": null
    }
  ],
  "nbformat_minor": 2,
  "metadata": {
    "language_info": {
      "file_extension": ".jl",
      "mimetype": "application/julia",
      "name": "julia",
      "version": "1.0.2"
    },
    "kernelspec": {
      "name": "julia-1.0",
      "display_name": "Julia 1.0.2",
      "language": "julia"
    }
  },
  "nbformat": 4
}
